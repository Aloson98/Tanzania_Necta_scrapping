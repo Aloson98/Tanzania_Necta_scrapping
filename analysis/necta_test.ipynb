{
 "cells": [
  {
   "cell_type": "markdown",
   "metadata": {},
   "source": [
    "# Clonning national examination council of Tanzania (Necta) ACSEE results to analyze Them"
   ]
  },
  {
   "cell_type": "markdown",
   "metadata": {},
   "source": [
    "## This algorithm is for edicational purpose only"
   ]
  },
  {
   "cell_type": "markdown",
   "metadata": {},
   "source": [
    "### imports"
   ]
  },
  {
   "cell_type": "code",
   "execution_count": null,
   "metadata": {},
   "outputs": [],
   "source": [
    "import pandas as pd\n",
    "import numpy as np\n",
    "import matplotlib.pyplot as plt\n",
    "import seaborn as sns\n",
    "from mongoengine import connect, disconnect\n",
    "import sys\n",
    "import json\n",
    "\n",
    "sys.path.append('..')\n",
    "from models import *\n",
    "\n",
    "disconnect()\n",
    "connect('necta_database_2', host='localhost', port=27017)"
   ]
  },
  {
   "cell_type": "code",
   "execution_count": null,
   "metadata": {},
   "outputs": [],
   "source": [
    "\n",
    "#creating a dataframe table for schools data\n",
    "schools = School.objects.all()\n",
    "\n",
    "schools_data = []\n",
    "for school in schools:\n",
    "    school_data = {\n",
    "        'school_name': school.school_name,\n",
    "        'school_index': school.school_index,\n",
    "        'region': school.school_region,\n",
    "    }\n",
    "    schools_data.append(school_data)\n",
    "        \n",
    "schools_dataframe = pd.DataFrame(schools_data)\n",
    "\n",
    "#appending the GPA data to the schools dataframe\n",
    "all_gpa = SchoolGPA.objects.all()\n",
    "\n",
    "for gpa in all_gpa:\n",
    "    schools_dataframe.loc[schools_dataframe['school_index'] == gpa.school.school_index, f'gpa_{gpa.result_year}'] = gpa.year_gpa\n",
    "    \n",
    "#calculating the absolute Rate of the school GPA\n",
    "schools_dataframe['gpa_rate_4'] = schools_dataframe['gpa_2023'] - schools_dataframe['gpa_2024']\n",
    "schools_dataframe['gpa_rate_3'] = schools_dataframe['gpa_2022'] - schools_dataframe['gpa_2023']\n",
    "schools_dataframe['gpa_rate_2'] = schools_dataframe['gpa_2021'] - schools_dataframe['gpa_2022']\n",
    "schools_dataframe['gpa_rate_1'] = schools_dataframe['gpa_2020'] - schools_dataframe['gpa_2021']\n",
    "\n",
    "schools_dataframe= schools_dataframe.sort_values(by='gpa_2024', ascending=True, na_position='last')\n",
    "df = schools_dataframe[schools_dataframe[\"gpa_2024\"] != 0]\n",
    "print(df.head())\n",
    "    "
   ]
  },
  {
   "cell_type": "markdown",
   "metadata": {},
   "source": [
    "## single school trend graph using heatmap"
   ]
  },
  {
   "cell_type": "code",
   "execution_count": null,
   "metadata": {},
   "outputs": [],
   "source": [
    "# Select one school (ensure it's a DataFrame, not a Series)\n",
    "school_name = \"S2476\"  # Replace with the school index you want\n",
    "single_school_data = df[df[\"school_index\"] == school_name].set_index(\"school_name\")[[\"gpa_2020\", \"gpa_2021\", \"gpa_2022\", \"gpa_2023\", \"gpa_2024\"]]\n",
    "\n",
    "# Convert to DataFrame with years as the index\n",
    "heatmap_data = single_school_data # Transpose to have years as rows\n",
    "heatmap_data.columns = [2020, 2021, 2022, 2023, 2024]\n",
    "# Plot heatmap\n",
    "plt.figure(figsize=(4, 6))  # Adjust figure size for single column\n",
    "sns.heatmap(heatmap_data, cmap=\"coolwarm\", annot=True, fmt=\".2f\", linewidths=0.5)\n",
    "\n",
    "# Graph Styling\n",
    "plt.xlabel(\"Year\")\n",
    "plt.ylabel(\"School Name\")\n",
    "plt.title(\"Top 5 Schools GPA Heatmap (Best GPA = 1, Worst GPA = 5)\")\n",
    "plt.gca().invert_yaxis()  # Best school appears at the top\n",
    "\n",
    "plt.show()"
   ]
  },
  {
   "cell_type": "markdown",
   "metadata": {},
   "source": [
    "## Top 10 best Schools"
   ]
  },
  {
   "cell_type": "markdown",
   "metadata": {},
   "source": [
    "### The following heatmap drawn to indicate the schools GPA over the past four years"
   ]
  },
  {
   "cell_type": "code",
   "execution_count": null,
   "metadata": {},
   "outputs": [],
   "source": [
    "top_10_schools = df.head(10)\n",
    "\n",
    "# Extract only GPA columns + School Name\n",
    "heatmap_data = top_10_schools.set_index(\"school_name\")[[\"gpa_2020\", \"gpa_2021\", \"gpa_2022\", \"gpa_2023\", \"gpa_2024\"]]\n",
    "\n",
    "# Rename columns for better readability (now in ascending order)\n",
    "heatmap_data.columns = [2020, 2021, 2022, 2023, 2024]\n",
    "\n",
    "# Plot heatmap (reverse the color scale)\n",
    "plt.figure(figsize=(10, 6))\n",
    "sns.heatmap(heatmap_data, cmap=\"coolwarm\", annot=True, fmt=\".2f\", linewidths=0.5)\n",
    "\n",
    "# Graph Styling\n",
    "plt.xlabel(\"Year\")\n",
    "plt.ylabel(\"School Name\")\n",
    "plt.title(\"Top 10 Schools GPA Heatmap (Best GPA = 1, Worst GPA = 5)\")\n",
    "\n",
    "plt.show()"
   ]
  },
  {
   "cell_type": "markdown",
   "metadata": {},
   "source": [
    "## top trends schools heatmap"
   ]
  },
  {
   "cell_type": "markdown",
   "metadata": {},
   "source": [
    "### This part will solve for the schools that have best positive rates, meaning that over the past four years they successfull climbed reaching the high"
   ]
  },
  {
   "cell_type": "code",
   "execution_count": null,
   "metadata": {},
   "outputs": [],
   "source": [
    "#schools that have positive gradual increase in GPA over the years\n",
    "df[\"positive_rates_count\"] = (df[['gpa_rate_1', 'gpa_rate_2', 'gpa_rate_3', 'gpa_rate_4']] > 0).sum(axis=1)\n",
    "df_3 = df.sort_values(by=[\"positive_rates_count\", \"gpa_2024\"], ascending=[False, True], na_position=\"last\")\n",
    "\n",
    "# Extract only GPA columns + School Name\n",
    "heatmap_data = top_10_schools.set_index(\"school_name\")[[\"gpa_2020\", \"gpa_2021\", \"gpa_2022\", \"gpa_2023\", \"gpa_2024\"]]\n",
    "\n",
    "# Rename columns for better readability (now in ascending order)\n",
    "heatmap_data.columns = [2020, 2021, 2022, 2023, 2024]\n",
    "\n",
    "# Plot heatmap (reverse the color scale)\n",
    "plt.figure(figsize=(10, 6))\n",
    "sns.heatmap(heatmap_data, cmap=\"coolwarm\", annot=True, fmt=\".2f\", linewidths=0.5)\n",
    "\n",
    "# Graph Styling\n",
    "plt.xlabel(\"Year\")\n",
    "plt.ylabel(\"School Name\")\n",
    "plt.title(\"Top 10 Schools GPA Heatmap (Best GPA = 1, Worst GPA = 5)\")\n",
    "\n",
    "plt.show()"
   ]
  },
  {
   "cell_type": "markdown",
   "metadata": {},
   "source": [
    "## Subject performance\n",
    "### This part we are going to cover the performance of each subjects and their correration to the school results"
   ]
  },
  {
   "cell_type": "code",
   "execution_count": null,
   "metadata": {},
   "outputs": [],
   "source": [
    "subjects = SubjectPerformance.objects.all()\n",
    "\n",
    "school_performance=[]\n",
    "\n",
    "for subject in subjects:\n",
    "    school_name = subject.school.school_name\n",
    "    data = (school_name, subject.school.school_index, subject.subject_name, subject.subject_code, subject.result_year, subject.subject_gpa)\n",
    "    school_performance.append(data)\n",
    "\n",
    "#creating index\n",
    "index = pd.MultiIndex.from_tuples(\n",
    "    [(school, school_index, subject_name, subjects_code) for school, school_index, subject_name, subjects_code, _, _ in school_performance],\n",
    "    names=[\"school_name\", \"school_index\", \"subject_name\", \"subjects_code\"]\n",
    ")\n",
    "\n",
    "# Create DataFrame\n",
    "df = pd.DataFrame(\n",
    "    index=index,\n",
    "    columns=[\"gpa_2024\", \"gpa_2023\", \"gpa_2022\", \"gpa_2021\", \"gpa_2020\"]\n",
    ")\n",
    "\n",
    "\n",
    "# Fill DataFrame with actual GPA values\n",
    "for school, school_index, subject_name, subject_code, result_year, subject_gpa in school_performance:\n",
    "    df.loc[(school, school_index, subject_name, subject_code), f\"gpa_{result_year}\"] = subject_gpa\n",
    "\n",
    "# Display DataFrame\n",
    "df.to_pickle(\"subject_performance_pickle\")\n",
    "print(df.tail(20))"
   ]
  },
  {
   "cell_type": "markdown",
   "metadata": {},
   "source": [
    "## calculating the total subject gpa over the past 4 years"
   ]
  },
  {
   "cell_type": "code",
   "execution_count": null,
   "metadata": {},
   "outputs": [],
   "source": [
    "#importing the dataframe from the saved pickle\n",
    "subject_performance = pd.read_pickle(\"subject_performance_pickle\")\n",
    "\n",
    "#computing the schools scoring highest gpa per subject\n",
    "subject_performance['subject_score'] = (subject_performance[[\"gpa_2024\", \"gpa_2023\", \"gpa_2022\", \"gpa_2021\", \"gpa_2020\"]]).sum(axis=1, skipna=False)\n",
    "\n",
    "# Reset index to access 'school_name' as a column\n",
    "subject_performance_reset = subject_performance.reset_index()\n",
    "\n",
    "\n",
    "combinations = [\"PCB\", \"PCM\", \"CBG\", \"HGL\", \"HGK\", \"HGE\", \"EGM\"]\n",
    "#creating the dataframe representing schools and combination scores\n",
    "combination_dataframe = pd.DataFrame(\n",
    "    index=subject_performance_reset[\"school_name\"].unique(),\n",
    "    columns=combinations\n",
    ")\n",
    "\n",
    "schools = list(combination_dataframe.index)\n",
    "for school in schools:\n",
    "    # Filter data for the current school\n",
    "    school_data = subject_performance_reset[subject_performance_reset[\"school_name\"] == school].drop_duplicates()\n",
    "\n",
    "    # Function to compute score only if all subjects exist\n",
    "    def compute_combination_score(required_subjects):\n",
    "        available_subjects = set(school_data[\"subject_name\"])\n",
    "        if required_subjects.issubset(available_subjects):\n",
    "            return school_data.loc[school_data[\"subject_name\"].isin(required_subjects), \"subject_score\"].sum(skipna=False)\n",
    "        return np.nan  # Return NaN if any subject is missing\n",
    "\n",
    "    # Compute combination scores\n",
    "    combination_scores = {\n",
    "        \"PCB\": compute_combination_score({\"PHYSICS\", \"CHEMISTRY\", \"BIOLOGY\"}),\n",
    "        \"PCM\": compute_combination_score({\"PHYSICS\", \"CHEMISTRY\", \"ADVANCED MATHEMATICS\"}),\n",
    "        \"CBG\": compute_combination_score({\"CHEMISTRY\", \"BIOLOGY\", \"GEOGRAPHY\"}),\n",
    "        \"HGL\": compute_combination_score({\"HISTORY\", \"GEOGRAPHY\", \"ENGLISH LANGUAGE\"}),\n",
    "        \"HGK\": compute_combination_score({\"HISTORY\", \"GEOGRAPHY\", \"KISWAHILI\"}),\n",
    "        \"HKL\": compute_combination_score({\"HISTORY\", \"KISWAHILI\", \"ENGLISH LANGUAGE\"}),\n",
    "        \"HGE\": compute_combination_score({\"HISTORY\", \"GEOGRAPHY\", \"ECONOMICS\"}),\n",
    "        \"EGM\": compute_combination_score({\"ECONOMICS\", \"GEOGRAPHY\", \"ADVANCED MATHEMATICS\"})\n",
    "    }\n",
    "\n",
    "    # Assign the values to combination_dataframe\n",
    "    for key, value in combination_scores.items():\n",
    "        combination_dataframe.loc[school, key] = value\n",
    "\n",
    "#order the schools based on combination performance, and the lower the score the higher the performance\n",
    "with open(\"combinations_performer.txt\", \"w\") as f:\n",
    "    for comb in combinations:\n",
    "        # Sort the dataframe based on the current combination\n",
    "        combination_dataframe = combination_dataframe.sort_values(by=comb, ascending=True, na_position=\"last\")\n",
    "        \n",
    "        # Remove rows where the combination score is 0\n",
    "        combination_dataframe = combination_dataframe[combination_dataframe[comb] != 0]\n",
    "        result_dataframe = combination_dataframe[[comb]]\n",
    "        \n",
    "        # Display top results for debugging\n",
    "        print(result_dataframe.head())\n",
    "\n",
    "        # Convert top 5 rows to a string and write to file\n",
    "        f.write(f\"\\nTop performers for {comb}:\\n\")\n",
    "        f.write(result_dataframe.head(5).to_string(index=True))  # Convert DataFrame to string\n",
    "        f.write(\"\\n\" + \"-\" * 50 + \"\\n\")"
   ]
  },
  {
   "cell_type": "code",
   "execution_count": null,
   "metadata": {},
   "outputs": [],
   "source": [
    "necta_result = pd.read_pickle(\"necta_results_pickle\")\n",
    "print(necta_result.head(10))"
   ]
  }
 ],
 "metadata": {
  "kernelspec": {
   "display_name": "necta",
   "language": "python",
   "name": "python3"
  },
  "language_info": {
   "codemirror_mode": {
    "name": "ipython",
    "version": 3
   },
   "file_extension": ".py",
   "mimetype": "text/x-python",
   "name": "python",
   "nbconvert_exporter": "python",
   "pygments_lexer": "ipython3",
   "version": "3.12.8"
  }
 },
 "nbformat": 4,
 "nbformat_minor": 2
}
